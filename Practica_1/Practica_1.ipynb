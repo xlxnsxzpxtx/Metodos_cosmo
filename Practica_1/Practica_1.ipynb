{
 "cells": [
  {
   "cell_type": "markdown",
   "metadata": {},
   "source": [
    "## Practica 1 \n",
    "## Miguel Alfonso Zapata De La Cruz "
   ]
  },
  {
   "cell_type": "markdown",
   "metadata": {},
   "source": [
    "<img src= 'Practica_1.jpg' width=\"600px\">"
   ]
  },
  {
   "cell_type": "code",
   "execution_count": 1,
   "metadata": {},
   "outputs": [],
   "source": [
    "import numpy as np\n",
    "import matplotlib.pyplot as mpl\n",
    "from scipy.stats import norm "
   ]
  },
  {
   "cell_type": "markdown",
   "metadata": {},
   "source": [
    "## Exercise 1: Generate Distances \n",
    "### Note, we use $\\Omega_{i,0}$ as O_i in ours code"
   ]
  },
  {
   "cell_type": "code",
   "execution_count": 4,
   "metadata": {},
   "outputs": [],
   "source": [
    "# The matter and Lambada density parameters are \n",
    "O_m=0.3\n",
    "O_L=0.7\n",
    "# and we consider the value of the Hubble parameter today  and the speed of the light to be\n",
    "H_0=70.0"
   ]
  },
  {
   "cell_type": "markdown",
   "metadata": {},
   "source": [
    "### Remember that the Friedmann equation in function of the redshift is \n",
    "$$\n",
    "H^2 (z) = H^2_{0} \\left( \\Omega_{r,0}z^4 + \\Omega_{m,0} z^3 + \\Omega_{k,0} z^2 + \\Omega_{\\Lambda , 0}  \\right)\n",
    "$$"
   ]
  }
 ],
 "metadata": {
  "kernelspec": {
   "display_name": "Python 3",
   "language": "python",
   "name": "python3"
  },
  "language_info": {
   "codemirror_mode": {
    "name": "ipython",
    "version": 3
   },
   "file_extension": ".py",
   "mimetype": "text/x-python",
   "name": "python",
   "nbconvert_exporter": "python",
   "pygments_lexer": "ipython3",
   "version": "3.10.12"
  },
  "orig_nbformat": 4
 },
 "nbformat": 4,
 "nbformat_minor": 2
}
