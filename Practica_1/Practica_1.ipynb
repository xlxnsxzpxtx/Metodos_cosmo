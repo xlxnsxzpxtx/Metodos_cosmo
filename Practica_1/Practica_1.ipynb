{
 "cells": [
  {
   "cell_type": "markdown",
   "metadata": {},
   "source": [
    "## Practica 1 \n",
    "## Miguel Alfonso Zapata De La Cruz "
   ]
  },
  {
   "cell_type": "markdown",
   "metadata": {},
   "source": [
    "<img src= 'Practica_1.jpg' width=\"600px\">"
   ]
  },
  {
   "cell_type": "code",
   "execution_count": 7,
   "metadata": {},
   "outputs": [],
   "source": [
    "import numpy as np\n",
    "import matplotlib.pyplot as mpl\n",
    "from scipy.stats import norm "
   ]
  },
  {
   "cell_type": "markdown",
   "metadata": {},
   "source": [
    "## Exercise 1: Generate Distances \n",
    "### Note, we use $\\Omega_{i,0}$ as O_i in ours code"
   ]
  },
  {
   "cell_type": "code",
   "execution_count": 5,
   "metadata": {},
   "outputs": [],
   "source": [
    "# The matter and Lambada density parameters are \n",
    "O_m=0.3\n",
    "O_L=0.7\n",
    "# and we consider the value of the Hubble parameter today  and the speed of the light to be\n",
    "H_0=70.0\n",
    "c = 300000"
   ]
  },
  {
   "cell_type": "markdown",
   "metadata": {},
   "source": [
    "### Remember that the Friedmann equation in function of the redshift is \n",
    "$$\n",
    "H^2 (z) = H^2_{0} \\left( \\Omega_{r,0}(z+1)^4 + \\Omega_{m,0} (z+1)^3 + \\Omega_{k,0} (z+1)^2 + \\Omega_{\\Lambda , 0}  \\right)\n",
    "$$\n",
    "\n",
    "in this cosmology with $ \\Omega_{r,0} = \\Omega_{k,0} = 0 $"
   ]
  },
  {
   "cell_type": "code",
   "execution_count": 8,
   "metadata": {},
   "outputs": [],
   "source": [
    "# The Hubble parameter for this cosmology is \n",
    "\n",
    "def H(z):\n",
    "  return np.sqrt((O_m)*(z+1)**3 + O_L)**(-0.5)\n",
    "\n",
    "# where \n",
    "z=np.arange(0,3,0.05)"
   ]
  },
  {
   "cell_type": "markdown",
   "metadata": {},
   "source": [
    "## in other hand, the comoving distance is defined as $ \\chi (z) =  c \\int_{0}^{x} \\frac{dz'}{H(z')}$"
   ]
  },
  {
   "cell_type": "code",
   "execution_count": 2,
   "metadata": {},
   "outputs": [],
   "source": [
    "def chi(z):\n",
    "  return (c/H_0 )*(quad(H, 0, z)[0])"
   ]
  },
  {
   "cell_type": "markdown",
   "metadata": {},
   "source": [
    "## the angular and luminosity distance are \n",
    "$$\n",
    "D_A = \\frac{\\chi(z)}{1+z}  \n",
    "$$ \n",
    "\n",
    "$$ \n",
    "D_L = (1+z) \\chi (z)\n",
    "$$\n"
   ]
  },
  {
   "cell_type": "code",
   "execution_count": 3,
   "metadata": {},
   "outputs": [],
   "source": [
    "def D_l(z):\n",
    "  return (z+1)*chi(z)\n",
    "\n",
    "def D_a(z):\n",
    "  return chi(z)/(1+z)\n",
    "\n"
   ]
  },
  {
   "cell_type": "code",
   "execution_count": 10,
   "metadata": {},
   "outputs": [
    {
     "ename": "NameError",
     "evalue": "name 'X' is not defined",
     "output_type": "error",
     "traceback": [
      "\u001b[0;31m---------------------------------------------------------------------------\u001b[0m",
      "\u001b[0;31mNameError\u001b[0m                                 Traceback (most recent call last)",
      "Cell \u001b[0;32mIn[10], line 5\u001b[0m\n\u001b[1;32m      3\u001b[0m chi \u001b[39m=\u001b[39m np\u001b[39m.\u001b[39mvectorize(chi)\n\u001b[1;32m      4\u001b[0m mpl\u001b[39m.\u001b[39mfigure(figsize\u001b[39m=\u001b[39m(\u001b[39m10\u001b[39m,\u001b[39m7\u001b[39m))\n\u001b[0;32m----> 5\u001b[0m mpl\u001b[39m.\u001b[39mplot(z,X(z), color\u001b[39m=\u001b[39m\u001b[39m'\u001b[39m\u001b[39mdarkblue\u001b[39m\u001b[39m'\u001b[39m, label\u001b[39m=\u001b[39m\u001b[39m'\u001b[39m\u001b[39mDistancia Comovil\u001b[39m\u001b[39m'\u001b[39m)\n\u001b[1;32m      6\u001b[0m mpl\u001b[39m.\u001b[39mplot(z,DL(z), color\u001b[39m=\u001b[39m\u001b[39m'\u001b[39m\u001b[39mdarkred\u001b[39m\u001b[39m'\u001b[39m, label\u001b[39m=\u001b[39m\u001b[39m'\u001b[39m\u001b[39mDistancia Lumínica\u001b[39m\u001b[39m'\u001b[39m)\n\u001b[1;32m      7\u001b[0m mpl\u001b[39m.\u001b[39mplot(z,DA(z), color\u001b[39m=\u001b[39m\u001b[39m'\u001b[39m\u001b[39mdarkorange\u001b[39m\u001b[39m'\u001b[39m, label\u001b[39m=\u001b[39m\u001b[39m'\u001b[39m\u001b[39mDistancia Angular\u001b[39m\u001b[39m'\u001b[39m)\n",
      "\u001b[0;31mNameError\u001b[0m: name 'X' is not defined"
     ]
    },
    {
     "data": {
      "text/plain": [
       "<Figure size 1000x700 with 0 Axes>"
      ]
     },
     "metadata": {},
     "output_type": "display_data"
    }
   ],
   "source": [
    "# The plot with the 3 distances, expressed in Gpc/h up to a redshift of 3 is \n",
    "\n",
    "chi = np.vectorize(chi)\n",
    "mpl.figure(figsize=(10,7))\n",
    "mpl.plot(z,chi(z), color='darkblue', label='Distancia Comovil')\n",
    "mpl.plot(z,chi(z), color='darkred', label='Distancia Lumínica')\n",
    "mpl.plot(z,DA(z), color='darkorange', label='Distancia Angular')\n",
    "mpl.xlabel('Redshift $z$', size=15)\n",
    "mpl.ylabel('Distancia', size=15)\n",
    "mpl.legend(fontsize=12)"
   ]
  }
 ],
 "metadata": {
  "kernelspec": {
   "display_name": "Python 3",
   "language": "python",
   "name": "python3"
  },
  "language_info": {
   "codemirror_mode": {
    "name": "ipython",
    "version": 3
   },
   "file_extension": ".py",
   "mimetype": "text/x-python",
   "name": "python",
   "nbconvert_exporter": "python",
   "pygments_lexer": "ipython3",
   "version": "3.10.12"
  },
  "orig_nbformat": 4
 },
 "nbformat": 4,
 "nbformat_minor": 2
}
