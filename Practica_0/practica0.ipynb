{
 "cells": [
  {
   "cell_type": "markdown",
   "metadata": {},
   "source": [
    "## Práctica o \n",
    "### Miguel Alfonso Zapata De La Cruz"
   ]
  },
  {
   "cell_type": "markdown",
   "metadata": {},
   "source": [
    "<img src= 'Practica_0.jpg' width=\"600px\">"
   ]
  },
  {
   "cell_type": "code",
   "execution_count": 1,
   "metadata": {},
   "outputs": [],
   "source": [
    "import numpy as np\n",
    "import matplotlib.pyplot as mpl\n",
    "from scipy.stats import norm \n",
    "#Practica"
   ]
  },
  {
   "cell_type": "markdown",
   "metadata": {},
   "source": [
    "### Generamos 100 veces los primeros 10 elementos de forma aleatoria "
   ]
  },
  {
   "cell_type": "code",
   "execution_count": 2,
   "metadata": {},
   "outputs": [],
   "source": [
    "mu = 0\n",
    "sigma = 1.0 \n",
    "dis_1 = []\n",
    "dis_2 = []\n",
    "dis_3 = []\n",
    "for k in range(100): \n",
    "  dis_1.append(np.random.normal(mu,sigma,10))\n"
   ]
  },
  {
   "cell_type": "markdown",
   "metadata": {},
   "source": [
    "## De forma análoga para 100 elementos "
   ]
  },
  {
   "cell_type": "code",
   "execution_count": 3,
   "metadata": {},
   "outputs": [],
   "source": [
    "for k in range(100): \n",
    "  dis_2.append(np.random.normal(mu,sigma,100))\n"
   ]
  },
  {
   "cell_type": "markdown",
   "metadata": {},
   "source": [
    "## Y finalmente para 1000 elementos "
   ]
  },
  {
   "cell_type": "code",
   "execution_count": 4,
   "metadata": {},
   "outputs": [],
   "source": [
    "for k in range(100):\n",
    "    dis_3.append(np.random.normal(mu,sigma,1000))"
   ]
  },
  {
   "cell_type": "markdown",
   "metadata": {},
   "source": [
    "## Ahora calculamos los promedios para 10, 100 y 1000 elementos "
   ]
  },
  {
   "cell_type": "code",
   "execution_count": 5,
   "metadata": {},
   "outputs": [],
   "source": [
    "prom1 = []\n",
    "prom2 = []\n",
    "prom3 = []\n",
    "\n",
    "for i in dis_1:\n",
    "    prom1.append(np.mean(i))\n",
    "\n",
    "for j in dis_2: \n",
    "    prom2.append(np.mean(j))\n",
    "\n",
    "for k in dis_3: \n",
    "    prom3.append(np.mean(k))\n",
    "\n",
    "s1 = np.std(prom1)\n",
    "s2 = np.std(prom2)\n",
    "s3 = np.std(prom3)"
   ]
  },
  {
   "cell_type": "markdown",
   "metadata": {},
   "source": [
    "## Recordando la formula para la desviación estándar $$ \\sigma \\thickapprox  \\frac{1}{\\sqrt{N}} $$\n",
    "## Calculamos "
   ]
  },
  {
   "cell_type": "code",
   "execution_count": 6,
   "metadata": {},
   "outputs": [],
   "source": [
    "s11 = (10)**(-0.5)\n",
    "s22 = (100)**(-0.5)\n",
    "s33 = (1000)**(-0.5)"
   ]
  },
  {
   "cell_type": "code",
   "execution_count": 7,
   "metadata": {},
   "outputs": [
    {
     "name": "stdout",
     "output_type": "stream",
     "text": [
      "0.2905292709438213 0.31622776601683794\n",
      "0.10401130243805054 0.1\n",
      "0.029223782410183096 0.03162277660168379\n"
     ]
    }
   ],
   "source": [
    "# Para 10 elementos tenemos \n",
    "print(s1,s11)\n",
    "print(s2,s22)\n",
    "print(s3,s33)\n",
    "\n",
    "#Vemos que se cumple la aproximación"
   ]
  },
  {
   "cell_type": "markdown",
   "metadata": {},
   "source": [
    "## Lo cual verifica que aproximadamente $ \\sigma \\thickapprox  \\frac{1}{\\sqrt{N}} $"
   ]
  },
  {
   "cell_type": "markdown",
   "metadata": {},
   "source": [
    "## Segunda parte "
   ]
  },
  {
   "cell_type": "code",
   "execution_count": 4,
   "metadata": {},
   "outputs": [
    {
     "name": "stdout",
     "output_type": "stream",
     "text": [
      "[[0.00000000e+00 7.08271527e-09]\n",
      " [1.00000000e-02 7.21797517e-09]\n",
      " [2.00000000e-02 7.35574896e-09]\n",
      " ...\n",
      " [2.99800000e+01 5.72470107e-06]\n",
      " [2.99900000e+01 5.64269933e-06]\n",
      " [3.00000000e+01 5.56181040e-06]]\n"
     ]
    }
   ],
   "source": [
    "# 1) Leemos e imprimimos el archivo \n",
    "dgauss = np.loadtxt('PDF_double_gauss_2021.txt')\n",
    "print(dgauss)"
   ]
  },
  {
   "cell_type": "markdown",
   "metadata": {},
   "source": [
    "## Usando el formula de los intervalos, en la regla de Simpson compuestas en la forma $ h = \\frac{b-a}{n}$, donde $a$ y $b$ son los extremos del intervalo y $n$, el número de subintervalos"
   ]
  },
  {
   "cell_type": "code",
   "execution_count": 5,
   "metadata": {},
   "outputs": [
    {
     "name": "stdout",
     "output_type": "stream",
     "text": [
      "El tamaño de dx es 0.01\n"
     ]
    }
   ],
   "source": [
    "# 2) Calculando el elemento dx \n",
    "i = 0\n",
    "x = [fila[i] for fila in dgauss]\n",
    "d = len(x)\n",
    "j = 1 \n",
    "y = [fila[j] for fila in dgauss]\n",
    "\n",
    "dx = (x[-1]-x[0])/(d-1)\n",
    "print('El tamaño de dx es',dx)\n"
   ]
  },
  {
   "cell_type": "code",
   "execution_count": 6,
   "metadata": {},
   "outputs": [
    {
     "name": "stdout",
     "output_type": "stream",
     "text": [
      "El resultado de la multiplación es  0.9999963524247931\n"
     ]
    }
   ],
   "source": [
    "# 3) Verificamos \n",
    "j = 1\n",
    "pdf_arr = [fila[j] for fila in dgauss]\n",
    "sum = np.sum(pdf_arr)\n",
    "print('El resultado de la multiplación es ',sum*dx)\n",
    "\n",
    "#Podemos ver que el resultado es muy cerca de la unidad. "
   ]
  },
  {
   "cell_type": "code",
   "execution_count": 18,
   "metadata": {},
   "outputs": [
    {
     "data": {
      "text/plain": [
       "array([7.08271527e-09, 1.43006904e-08, 2.16564394e-08, ...,\n",
       "       9.99996240e+01, 9.99996297e+01, 9.99996352e+01])"
      ]
     },
     "execution_count": 18,
     "metadata": {},
     "output_type": "execute_result"
    }
   ],
   "source": [
    "# 4) Ahora encontramos cumulative distribution function (CDF), para esto recordemos que \n",
    "# se obtiene al sumar la función de densidad de probabilidad. Así \n",
    "x_ar   = dgauss[:,0]\n",
    "pdf_array = dgauss[:,1] \n",
    "\n",
    "cumul_ar =np.cumsum(pdf_array)\n",
    "cumul_ar\n",
    "\n"
   ]
  },
  {
   "cell_type": "code",
   "execution_count": 19,
   "metadata": {},
   "outputs": [
    {
     "data": {
      "text/plain": [
       "Text(0, 0.5, 'Probabilty Distribution Function (PDF)')"
      ]
     },
     "execution_count": 19,
     "metadata": {},
     "output_type": "execute_result"
    },
    {
     "data": {
      "image/png": "[encoded data removed]",
      "text/plain": [
       "<Figure size 640x480 with 1 Axes>"
      ]
     },
     "metadata": {},
     "output_type": "display_data"
    }
   ],
   "source": [
    "# 5) Realizamos los plots de PDF y CDF \n",
    "\n",
    "pdf_plot = mpl.plot(x_ar,pdf_array, color = 'green' )\n",
    "mpl.xlabel('x')\n",
    "mpl.ylabel('Probabilty Distribution Function (PDF)')\n"
   ]
  },
  {
   "cell_type": "code",
   "execution_count": 20,
   "metadata": {},
   "outputs": [
    {
     "data": {
      "text/plain": [
       "Text(0, 0.5, 'cumulative distribution function (CDF)')"
      ]
     },
     "execution_count": 20,
     "metadata": {},
     "output_type": "execute_result"
    },
    {
     "data": {
      "image/png": "[encoded data removed]",
      "text/plain": [
       "<Figure size 640x480 with 1 Axes>"
      ]
     },
     "metadata": {},
     "output_type": "display_data"
    }
   ],
   "source": [
    "cdf_plot = mpl.plot(x_ar,comul_array, color = 'red' )\n",
    "mpl.xlabel('x')\n",
    "mpl.ylabel('cumulative distribution function (CDF)')"
   ]
  },
  {
   "cell_type": "code",
   "execution_count": null,
   "metadata": {},
   "outputs": [],
   "source": []
  },
  {
   "cell_type": "code",
   "execution_count": 88,
   "metadata": {},
   "outputs": [],
   "source": [
    "# 6)  Now, using the trials from CFD and the uniform trials, we generate 20,000 new trials, for this, we started for the first element \n",
    "# and finished for the last element\n",
    "\n",
    "x_i = cumul_ar[0]\n",
    "x_f = cumul_ar[-1]\n",
    "myrandom_arr = np.random.uniform(x_i, x_f, 20000)\n",
    " \n"
   ]
  },
  {
   "cell_type": "code",
   "execution_count": 91,
   "metadata": {},
   "outputs": [],
   "source": [
    "# 7) from myrandom_arr, we can generate a new random trials\n",
    "\n",
    "\n",
    "z = []  \n",
    "for i in range(myrandom_arr.shape[0]):\n",
    " x = myrandom_arr[i]\n",
    " y = np.absolute(cumul_ar - x) \n",
    " index = np.argmin(y) \n",
    " z.append(index)\n",
    "\n",
    "\n"
   ]
  },
  {
   "cell_type": "code",
   "execution_count": 103,
   "metadata": {},
   "outputs": [
    {
     "data": {
      "text/plain": [
       "1.0"
      ]
     },
     "execution_count": 103,
     "metadata": {},
     "output_type": "execute_result"
    }
   ],
   "source": [
    "# Now, we reorder the trials from dgauus with respect to the z\n",
    "\n",
    "T = np.array([dgauss[j,0] for j in z ])\n",
    "\n",
    "# Finally, we calculate the norm=1 and verify\n",
    "T_norm = np.linalg.norm(T)\n",
    "W = T/T_norm\n",
    "np.linalg.norm(W)\n"
   ]
  },
  {
   "cell_type": "code",
   "execution_count": 104,
   "metadata": {},
   "outputs": [
    {
     "data": {
      "text/plain": [
       "(array([  1.,   0.,   1.,   0.,   2.,   0.,   1.,   0.,   1.,   0.,   0.,\n",
       "          1.,   4.,   2.,   0.,   3.,   5.,   4.,   5.,   3.,   1.,   3.,\n",
       "         11.,   5.,   5.,  10.,  11.,   8.,   7.,  19.,  16.,  14.,  17.,\n",
       "         25.,  21.,  23.,  35.,  31.,  50.,  32.,  48.,  47.,  47.,  59.,\n",
       "         57.,  66.,  65.,  79.,  80.,  98.,  78.,  92., 111., 112., 109.,\n",
       "        136., 117., 120., 156., 147., 142., 185., 161., 148., 158., 184.,\n",
       "        182., 204., 207., 202., 190., 223., 192., 207., 179., 210., 215.,\n",
       "        194., 190., 208., 180., 203., 193., 182., 184., 185., 174., 169.,\n",
       "        162., 161., 169., 132., 124., 137., 148., 119., 125., 107.,  94.,\n",
       "         84.,  88.,  81.,  73.,  48.,  65.,  57.,  74.,  47.,  63.,  42.,\n",
       "         49.,  43.,  38.,  33.,  39.,  40.,  20.,  12.,  19.,  13.,  16.,\n",
       "         11.,  12.,  17.,   9.,  11.,  14.,  10.,   7.,  14.,   6.,   6.,\n",
       "          7.,   6.,   3.,   5.,   4.,   8.,   7.,   6.,   4.,   8.,   3.,\n",
       "          5.,   2.,   7.,  10.,   6.,   7.,   8.,   9.,   4.,   9.,  16.,\n",
       "          9.,   5.,  10.,  11.,   6.,  14.,   9.,  12.,  11.,  17.,  20.,\n",
       "         11.,  19.,  12.,   9.,  13.,  17.,  21.,  24.,  26.,  19.,  19.,\n",
       "         16.,  15.,  11.,  15.,  19.,  24.,  26.,  30.,  17.,  21.,  23.,\n",
       "         21.,  21.,  23.,  21.,  28.,  39.,  30.,  19.,  29.,  22.,  39.,\n",
       "         28.,  31.,  37.,  23.,  29.,  36.,  25.,  37.,  33.,  43.,  39.,\n",
       "         37.,  29.,  42.,  38.,  37.,  39.,  41.,  48.,  52.,  44.,  36.,\n",
       "         52.,  61.,  43.,  51.,  50.,  40.,  45.,  46.,  59.,  44.,  67.,\n",
       "         74.,  55.,  47.,  65.,  42.,  41.,  56.,  61.,  58.,  53.,  59.,\n",
       "         63.,  63.,  68.,  65.,  59.,  46.,  57.,  59.,  79.,  65.,  64.,\n",
       "         55.,  64.,  71.,  67.,  70.,  69.,  66.,  63.,  62.,  64.,  68.,\n",
       "         73.,  61.,  68.,  54.,  82.,  86.,  59.,  66.,  55.,  53.,  66.,\n",
       "         55.,  79.,  59.,  69.,  55.,  61.,  70.,  56.,  66.,  58.,  52.,\n",
       "         46.,  55.,  60.,  62.,  61.,  70.,  64.,  51.,  68.,  60.,  52.,\n",
       "         71.,  72.,  63.,  72.,  52.,  61.,  76.,  64.,  62.,  56.,  65.,\n",
       "         53.,  60.,  50.,  60.,  57.,  47.,  47.,  53.,  45.,  54.,  66.,\n",
       "         42.,  43.,  46.,  45.,  46.,  46.,  41.,  45.,  49.,  40.,  56.,\n",
       "         35.,  49.,  29.,  38.,  31.,  39.,  37.,  38.,  34.,  27.,  34.,\n",
       "         36.,  43.,  36.,  36.,  26.,  33.,  34.,  32.,  35.,  35.,  33.,\n",
       "         26.,  27.,  27.,  27.,  19.,  32.,  27.,  16.,  21.,  17.,  24.,\n",
       "         31.,  26.,  20.,   9.,  19.,  21.,  23.,  22.,  19.,  15.,  17.,\n",
       "         16.,  13.,  18.,  17.,  17.,  13.,  16.,  14.,   8.,  13.,  16.,\n",
       "          7.,   6.,  14.,  10.,   7.,   9.,   7.,  10.,   6.,   6.,  10.,\n",
       "         13.,   5.,   8.,   9.,   8.,   5.,   6.,   5.,   8.,   7.,   4.,\n",
       "          4.,   5.,   4.,   5.,   6.,   8.,   4.,   1.,   5.,   5.,   6.,\n",
       "          1.,   3.,   2.,   2.,   3.,   4.,   2.,   2.,   4.,   0.,   2.,\n",
       "          3.,   1.,   2.,   2.,   0.,   2.,   1.,   1.,   2.,   1.,   0.,\n",
       "          2.,   0.,   1.,   1.,   0.,   0.,   2.,   0.,   1.,   3.,   0.,\n",
       "          1.,   0.,   1.,   2.,   1.,   1.,   1.,   0.,   1.,   1.,   0.,\n",
       "          0.,   1.,   1.,   0.,   0.,   1.,   0.,   0.,   0.,   0.,   0.,\n",
       "          0.,   0.,   0.,   0.,   0.,   0.,   0.,   1.,   0.,   0.,   0.,\n",
       "          1.,   0.,   0.,   0.,   0.,   0.,   0.,   0.,   0.,   0.,   0.,\n",
       "          0.,   1.,   0.,   0.,   1.]),\n",
       " array([0.00173561, 0.00176261, 0.00178962, 0.00181663, 0.00184363,\n",
       "        0.00187064, 0.00189765, 0.00192465, 0.00195166, 0.00197867,\n",
       "        0.00200567, 0.00203268, 0.00205969, 0.00208669, 0.0021137 ,\n",
       "        0.00214071, 0.00216771, 0.00219472, 0.00222173, 0.00224873,\n",
       "        0.00227574, 0.00230275, 0.00232975, 0.00235676, 0.00238377,\n",
       "        0.00241077, 0.00243778, 0.00246479, 0.00249179, 0.0025188 ,\n",
       "        0.00254581, 0.00257281, 0.00259982, 0.00262683, 0.00265383,\n",
       "        0.00268084, 0.00270785, 0.00273485, 0.00276186, 0.00278887,\n",
       "        0.00281587, 0.00284288, 0.00286989, 0.00289689, 0.0029239 ,\n",
       "        0.00295091, 0.00297791, 0.00300492, 0.00303193, 0.00305893,\n",
       "        0.00308594, 0.00311295, 0.00313995, 0.00316696, 0.00319397,\n",
       "        0.00322097, 0.00324798, 0.00327499, 0.00330199, 0.003329  ,\n",
       "        0.00335601, 0.00338301, 0.00341002, 0.00343703, 0.00346403,\n",
       "        0.00349104, 0.00351805, 0.00354506, 0.00357206, 0.00359907,\n",
       "        0.00362608, 0.00365308, 0.00368009, 0.0037071 , 0.0037341 ,\n",
       "        0.00376111, 0.00378812, 0.00381512, 0.00384213, 0.00386914,\n",
       "        0.00389614, 0.00392315, 0.00395016, 0.00397716, 0.00400417,\n",
       "        0.00403118, 0.00405818, 0.00408519, 0.0041122 , 0.0041392 ,\n",
       "        0.00416621, 0.00419322, 0.00422022, 0.00424723, 0.00427424,\n",
       "        0.00430124, 0.00432825, 0.00435526, 0.00438226, 0.00440927,\n",
       "        0.00443628, 0.00446328, 0.00449029, 0.0045173 , 0.0045443 ,\n",
       "        0.00457131, 0.00459832, 0.00462532, 0.00465233, 0.00467934,\n",
       "        0.00470634, 0.00473335, 0.00476036, 0.00478736, 0.00481437,\n",
       "        0.00484138, 0.00486838, 0.00489539, 0.0049224 , 0.0049494 ,\n",
       "        0.00497641, 0.00500342, 0.00503042, 0.00505743, 0.00508444,\n",
       "        0.00511144, 0.00513845, 0.00516546, 0.00519246, 0.00521947,\n",
       "        0.00524648, 0.00527348, 0.00530049, 0.0053275 , 0.0053545 ,\n",
       "        0.00538151, 0.00540852, 0.00543552, 0.00546253, 0.00548954,\n",
       "        0.00551654, 0.00554355, 0.00557056, 0.00559756, 0.00562457,\n",
       "        0.00565158, 0.00567858, 0.00570559, 0.0057326 , 0.0057596 ,\n",
       "        0.00578661, 0.00581362, 0.00584062, 0.00586763, 0.00589464,\n",
       "        0.00592164, 0.00594865, 0.00597566, 0.00600266, 0.00602967,\n",
       "        0.00605668, 0.00608368, 0.00611069, 0.0061377 , 0.0061647 ,\n",
       "        0.00619171, 0.00621872, 0.00624572, 0.00627273, 0.00629974,\n",
       "        0.00632674, 0.00635375, 0.00638076, 0.00640776, 0.00643477,\n",
       "        0.00646178, 0.00648878, 0.00651579, 0.0065428 , 0.0065698 ,\n",
       "        0.00659681, 0.00662382, 0.00665082, 0.00667783, 0.00670484,\n",
       "        0.00673184, 0.00675885, 0.00678586, 0.00681286, 0.00683987,\n",
       "        0.00686688, 0.00689388, 0.00692089, 0.0069479 , 0.0069749 ,\n",
       "        0.00700191, 0.00702892, 0.00705592, 0.00708293, 0.00710994,\n",
       "        0.00713694, 0.00716395, 0.00719096, 0.00721796, 0.00724497,\n",
       "        0.00727198, 0.00729898, 0.00732599, 0.007353  , 0.00738   ,\n",
       "        0.00740701, 0.00743402, 0.00746102, 0.00748803, 0.00751504,\n",
       "        0.00754204, 0.00756905, 0.00759606, 0.00762306, 0.00765007,\n",
       "        0.00767708, 0.00770409, 0.00773109, 0.0077581 , 0.00778511,\n",
       "        0.00781211, 0.00783912, 0.00786613, 0.00789313, 0.00792014,\n",
       "        0.00794715, 0.00797415, 0.00800116, 0.00802817, 0.00805517,\n",
       "        0.00808218, 0.00810919, 0.00813619, 0.0081632 , 0.00819021,\n",
       "        0.00821721, 0.00824422, 0.00827123, 0.00829823, 0.00832524,\n",
       "        0.00835225, 0.00837925, 0.00840626, 0.00843327, 0.00846027,\n",
       "        0.00848728, 0.00851429, 0.00854129, 0.0085683 , 0.00859531,\n",
       "        0.00862231, 0.00864932, 0.00867633, 0.00870333, 0.00873034,\n",
       "        0.00875735, 0.00878435, 0.00881136, 0.00883837, 0.00886537,\n",
       "        0.00889238, 0.00891939, 0.00894639, 0.0089734 , 0.00900041,\n",
       "        0.00902741, 0.00905442, 0.00908143, 0.00910843, 0.00913544,\n",
       "        0.00916245, 0.00918945, 0.00921646, 0.00924347, 0.00927047,\n",
       "        0.00929748, 0.00932449, 0.00935149, 0.0093785 , 0.00940551,\n",
       "        0.00943251, 0.00945952, 0.00948653, 0.00951353, 0.00954054,\n",
       "        0.00956755, 0.00959455, 0.00962156, 0.00964857, 0.00967557,\n",
       "        0.00970258, 0.00972959, 0.00975659, 0.0097836 , 0.00981061,\n",
       "        0.00983761, 0.00986462, 0.00989163, 0.00991863, 0.00994564,\n",
       "        0.00997265, 0.00999965, 0.01002666, 0.01005367, 0.01008067,\n",
       "        0.01010768, 0.01013469, 0.01016169, 0.0101887 , 0.01021571,\n",
       "        0.01024271, 0.01026972, 0.01029673, 0.01032373, 0.01035074,\n",
       "        0.01037775, 0.01040475, 0.01043176, 0.01045877, 0.01048577,\n",
       "        0.01051278, 0.01053979, 0.01056679, 0.0105938 , 0.01062081,\n",
       "        0.01064781, 0.01067482, 0.01070183, 0.01072883, 0.01075584,\n",
       "        0.01078285, 0.01080985, 0.01083686, 0.01086387, 0.01089087,\n",
       "        0.01091788, 0.01094489, 0.01097189, 0.0109989 , 0.01102591,\n",
       "        0.01105291, 0.01107992, 0.01110693, 0.01113393, 0.01116094,\n",
       "        0.01118795, 0.01121495, 0.01124196, 0.01126897, 0.01129597,\n",
       "        0.01132298, 0.01134999, 0.01137699, 0.011404  , 0.01143101,\n",
       "        0.01145801, 0.01148502, 0.01151203, 0.01153903, 0.01156604,\n",
       "        0.01159305, 0.01162005, 0.01164706, 0.01167407, 0.01170107,\n",
       "        0.01172808, 0.01175509, 0.01178209, 0.0118091 , 0.01183611,\n",
       "        0.01186312, 0.01189012, 0.01191713, 0.01194414, 0.01197114,\n",
       "        0.01199815, 0.01202516, 0.01205216, 0.01207917, 0.01210618,\n",
       "        0.01213318, 0.01216019, 0.0121872 , 0.0122142 , 0.01224121,\n",
       "        0.01226822, 0.01229522, 0.01232223, 0.01234924, 0.01237624,\n",
       "        0.01240325, 0.01243026, 0.01245726, 0.01248427, 0.01251128,\n",
       "        0.01253828, 0.01256529, 0.0125923 , 0.0126193 , 0.01264631,\n",
       "        0.01267332, 0.01270032, 0.01272733, 0.01275434, 0.01278134,\n",
       "        0.01280835, 0.01283536, 0.01286236, 0.01288937, 0.01291638,\n",
       "        0.01294338, 0.01297039, 0.0129974 , 0.0130244 , 0.01305141,\n",
       "        0.01307842, 0.01310542, 0.01313243, 0.01315944, 0.01318644,\n",
       "        0.01321345, 0.01324046, 0.01326746, 0.01329447, 0.01332148,\n",
       "        0.01334848, 0.01337549, 0.0134025 , 0.0134295 , 0.01345651,\n",
       "        0.01348352, 0.01351052, 0.01353753, 0.01356454, 0.01359154,\n",
       "        0.01361855, 0.01364556, 0.01367256, 0.01369957, 0.01372658,\n",
       "        0.01375358, 0.01378059, 0.0138076 , 0.0138346 , 0.01386161,\n",
       "        0.01388862, 0.01391562, 0.01394263, 0.01396964, 0.01399664,\n",
       "        0.01402365, 0.01405066, 0.01407766, 0.01410467, 0.01413168,\n",
       "        0.01415868, 0.01418569, 0.0142127 , 0.0142397 , 0.01426671,\n",
       "        0.01429372, 0.01432072, 0.01434773, 0.01437474, 0.01440174,\n",
       "        0.01442875, 0.01445576, 0.01448276, 0.01450977, 0.01453678,\n",
       "        0.01456378, 0.01459079, 0.0146178 , 0.0146448 , 0.01467181,\n",
       "        0.01469882, 0.01472582, 0.01475283, 0.01477984, 0.01480684,\n",
       "        0.01483385, 0.01486086, 0.01488786, 0.01491487, 0.01494188,\n",
       "        0.01496888, 0.01499589, 0.0150229 , 0.0150499 , 0.01507691,\n",
       "        0.01510392, 0.01513092, 0.01515793, 0.01518494, 0.01521194,\n",
       "        0.01523895]),\n",
       " <BarContainer object of 500 artists>)"
      ]
     },
     "execution_count": 104,
     "metadata": {},
     "output_type": "execute_result"
    },
    {
     "data": {
      "image/png": "[encoded data removed]",
      "text/plain": [
       "<Figure size 640x480 with 1 Axes>"
      ]
     },
     "metadata": {},
     "output_type": "display_data"
    }
   ],
   "source": [
    "# The plots of the new distribution with 500 bins is \n",
    "mpl.hist(W,bins=500,color='red')\n",
    "\n"
   ]
  }
 ],
 "metadata": {
  "kernelspec": {
   "display_name": "Python 3 (ipykernel)",
   "language": "python",
   "name": "python3"
  },
  "language_info": {
   "codemirror_mode": {
    "name": "ipython",
    "version": 3
   },
   "file_extension": ".py",
   "mimetype": "text/x-python",
   "name": "python",
   "nbconvert_exporter": "python",
   "pygments_lexer": "ipython3",
   "version": "3.10.12"
  }
 },
 "nbformat": 4,
 "nbformat_minor": 2
}
