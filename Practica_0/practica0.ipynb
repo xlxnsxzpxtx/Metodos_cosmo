{
 "cells": [
  {
   "cell_type": "markdown",
   "metadata": {},
   "source": [
    "## Práctica o \n",
    "### Miguel Alfonso Zapata De La Cruz"
   ]
  },
  {
   "cell_type": "markdown",
   "metadata": {},
   "source": [
    "<img src= 'Practica_0.jpg' width=\"600px\">"
   ]
  },
  {
   "cell_type": "code",
   "execution_count": 1,
   "metadata": {},
   "outputs": [],
   "source": [
    "import numpy as np\n",
    "import matplotlib.pyplot as mpl\n",
    "from scipy.stats import norm \n",
    "#Practica"
   ]
  },
  {
   "cell_type": "markdown",
   "metadata": {},
   "source": [
    "### Generamos 100 veces los primeros 10 elementos de forma aleatoria "
   ]
  },
  {
   "cell_type": "code",
   "execution_count": 40,
   "metadata": {},
   "outputs": [],
   "source": [
    "mu = 0\n",
    "sigma = 1.0 \n",
    "dis_1 = []\n",
    "dis_2 = []\n",
    "dis_3 = []\n",
    "for k in range(100): \n",
    "  dis_1.append(np.random.normal(mu,sigma,10))\n"
   ]
  },
  {
   "cell_type": "markdown",
   "metadata": {},
   "source": [
    "## De forma análoga para 100 elementos "
   ]
  },
  {
   "cell_type": "code",
   "execution_count": 3,
   "metadata": {},
   "outputs": [],
   "source": [
    "for k in range(100): \n",
    "  dis_2.append(np.random.normal(mu,sigma,100))\n"
   ]
  },
  {
   "cell_type": "markdown",
   "metadata": {},
   "source": [
    "## Y finalmente para 1000 elementos "
   ]
  },
  {
   "cell_type": "code",
   "execution_count": 4,
   "metadata": {},
   "outputs": [],
   "source": [
    "for k in range(100):\n",
    "    dis_3.append(np.random.normal(mu,sigma,1000))"
   ]
  },
  {
   "cell_type": "markdown",
   "metadata": {},
   "source": [
    "## Ahora calculamos los promedios para 10, 100 y 1000 elementos "
   ]
  },
  {
   "cell_type": "code",
   "execution_count": 5,
   "metadata": {},
   "outputs": [],
   "source": [
    "prom1 = []\n",
    "prom2 = []\n",
    "prom3 = []\n",
    "\n",
    "for i in dis_1:\n",
    "    prom1.append(np.mean(i))\n",
    "\n",
    "for j in dis_2: \n",
    "    prom2.append(np.mean(j))\n",
    "\n",
    "for k in dis_3: \n",
    "    prom3.append(np.mean(k))\n",
    "\n",
    "s1 = np.std(prom1)\n",
    "s2 = np.std(prom2)\n",
    "s3 = np.std(prom3)"
   ]
  },
  {
   "cell_type": "markdown",
   "metadata": {},
   "source": [
    "## Recordando la formula para la desviación estándar $$ \\sigma \\thickapprox  \\frac{1}{\\sqrt{N}} $$\n",
    "## Calculamos "
   ]
  },
  {
   "cell_type": "code",
   "execution_count": 6,
   "metadata": {},
   "outputs": [],
   "source": [
    "s11 = (10)**(-0.5)\n",
    "s22 = (100)**(-0.5)\n",
    "s33 = (1000)**(-0.5)"
   ]
  },
  {
   "cell_type": "code",
   "execution_count": 7,
   "metadata": {},
   "outputs": [
    {
     "name": "stdout",
     "output_type": "stream",
     "text": [
      "0.33801582121925755 0.31622776601683794\n",
      "0.09458824341285885 0.1\n",
      "0.03438546218737923 0.03162277660168379\n"
     ]
    }
   ],
   "source": [
    "# Para 10 elementos tenemos \n",
    "print(s1,s11)\n",
    "print(s2,s22)\n",
    "print(s3,s33)\n",
    "\n",
    "#Vemos que se cumple la aproximación"
   ]
  },
  {
   "cell_type": "markdown",
   "metadata": {},
   "source": [
    "## Lo cual verifica que aproximadamente $ \\sigma \\thickapprox  \\frac{1}{\\sqrt{N}} $"
   ]
  },
  {
   "cell_type": "code",
   "execution_count": 77,
   "metadata": {},
   "outputs": [
    {
     "data": {
      "text/plain": [
       "Text(0, 0.5, '$x^{-1/2}$')"
      ]
     },
     "execution_count": 77,
     "metadata": {},
     "output_type": "execute_result"
    },
    {
     "data": {
      "image/png": "[encoded data removed]",
      "text/plain": [
       "<Figure size 640x480 with 1 Axes>"
      ]
     },
     "metadata": {},
     "output_type": "display_data"
    }
   ],
   "source": [
    "x = np.arange(1,1000)\n",
    "y = x**(-0.5)\n",
    "mpl.plot(x,y,color = 'blue')\n",
    "mpl.plot(10,0.31622776601683794,marker='v',color = 'red')\n",
    "mpl.plot(100,0.1,marker='s',color = 'red')\n",
    "mpl.plot(1000,0.03162277660168379,marker='o', color = 'red')\n",
    "mpl.xlabel('x')\n",
    "mpl.ylabel('$x^{-1/2}$')"
   ]
  },
  {
   "cell_type": "markdown",
   "metadata": {},
   "source": [
    "## Segunda parte "
   ]
  },
  {
   "cell_type": "code",
   "execution_count": 8,
   "metadata": {},
   "outputs": [
    {
     "name": "stdout",
     "output_type": "stream",
     "text": [
      "[[0.00000000e+00 7.08271527e-09]\n",
      " [1.00000000e-02 7.21797517e-09]\n",
      " [2.00000000e-02 7.35574896e-09]\n",
      " ...\n",
      " [2.99800000e+01 5.72470107e-06]\n",
      " [2.99900000e+01 5.64269933e-06]\n",
      " [3.00000000e+01 5.56181040e-06]]\n"
     ]
    }
   ],
   "source": [
    "# 1) Leemos e imprimimos el archivo \n",
    "dgauss = np.loadtxt('PDF_double_gauss_2021.txt')\n",
    "print(dgauss)"
   ]
  },
  {
   "cell_type": "markdown",
   "metadata": {},
   "source": [
    "## Usando el formula de los intervalos, en la regla de Simpson compuestas en la forma $ h = \\frac{b-a}{n}$, donde $a$ y $b$ son los extremos del intervalo y $n$, el número de subintervalos"
   ]
  },
  {
   "cell_type": "code",
   "execution_count": 9,
   "metadata": {},
   "outputs": [
    {
     "name": "stdout",
     "output_type": "stream",
     "text": [
      "El tamaño de dx es 0.01\n"
     ]
    }
   ],
   "source": [
    "# 2) Calculando el elemento dx \n",
    "i = 0\n",
    "x = [fila[i] for fila in dgauss]\n",
    "d = len(x)\n",
    "j = 1 \n",
    "y = [fila[j] for fila in dgauss]\n",
    "\n",
    "dx = (x[-1]-x[0])/(d-1)\n",
    "print('El tamaño de dx es',dx)\n"
   ]
  },
  {
   "cell_type": "code",
   "execution_count": 10,
   "metadata": {},
   "outputs": [
    {
     "name": "stdout",
     "output_type": "stream",
     "text": [
      "El resultado de la multiplación es  0.9999963524247931\n"
     ]
    }
   ],
   "source": [
    "# 3) Verificamos \n",
    "j = 1\n",
    "pdf_arr = [fila[j] for fila in dgauss]\n",
    "sum = np.sum(pdf_arr)\n",
    "print('El resultado de la multiplación es ',sum*dx)\n",
    "\n",
    "#Podemos ver que el resultado es muy cerca de la unidad. "
   ]
  },
  {
   "cell_type": "code",
   "execution_count": 14,
   "metadata": {},
   "outputs": [
    {
     "data": {
      "text/plain": [
       "array([7.08271527e-09, 1.43006904e-08, 2.16564394e-08, ...,\n",
       "       9.99996240e+01, 9.99996297e+01, 9.99996352e+01])"
      ]
     },
     "execution_count": 14,
     "metadata": {},
     "output_type": "execute_result"
    }
   ],
   "source": [
    "# 4) Ahora encontramos cumulative distribution function (CDF), para esto recordemos que \n",
    "# se obtiene al sumar la función de densidad de probabilidad. Así \n",
    "x_ar   = dgauss[:,0]\n",
    "pdf_array = dgauss[:,1] \n",
    "\n",
    "cumul_ar =np.cumsum(pdf_array)\n",
    "cumul_ar\n",
    "\n"
   ]
  },
  {
   "cell_type": "code",
   "execution_count": 12,
   "metadata": {},
   "outputs": [
    {
     "data": {
      "text/plain": [
       "Text(0, 0.5, 'Probabilty Distribution Function (PDF)')"
      ]
     },
     "execution_count": 12,
     "metadata": {},
     "output_type": "execute_result"
    },
    {
     "data": {
      "image/png": "[encoded data removed]",
      "text/plain": [
       "<Figure size 640x480 with 1 Axes>"
      ]
     },
     "metadata": {},
     "output_type": "display_data"
    }
   ],
   "source": [
    "# 5) Realizamos los plots de PDF y CDF \n",
    "\n",
    "pdf_plot = mpl.plot(x_ar,pdf_array, color = 'green' )\n",
    "mpl.xlabel('x')\n",
    "mpl.ylabel('Probabilty Distribution Function (PDF)')\n"
   ]
  },
  {
   "cell_type": "code",
   "execution_count": 15,
   "metadata": {},
   "outputs": [
    {
     "data": {
      "text/plain": [
       "Text(0, 0.5, 'cumulative distribution function (CDF)')"
      ]
     },
     "execution_count": 15,
     "metadata": {},
     "output_type": "execute_result"
    },
    {
     "data": {
      "image/png": "[encoded data removed]",
      "text/plain": [
       "<Figure size 640x480 with 1 Axes>"
      ]
     },
     "metadata": {},
     "output_type": "display_data"
    }
   ],
   "source": [
    "cdf_plot = mpl.plot(x_ar,cumul_ar, color = 'red' )\n",
    "mpl.xlabel('x')\n",
    "mpl.ylabel('cumulative distribution function (CDF)')"
   ]
  },
  {
   "cell_type": "code",
   "execution_count": null,
   "metadata": {},
   "outputs": [],
   "source": []
  },
  {
   "cell_type": "code",
   "execution_count": 16,
   "metadata": {},
   "outputs": [],
   "source": [
    "# 6)  Now, using the trials from CFD and the uniform trials, we generate 20,000 new trials, for this, we started for the first element \n",
    "# and finished for the last element\n",
    "\n",
    "x_i = cumul_ar[0]\n",
    "x_f = cumul_ar[-1]\n",
    "myrandom_arr = np.random.uniform(x_i, x_f, 20000)\n",
    " \n"
   ]
  },
  {
   "cell_type": "code",
   "execution_count": 17,
   "metadata": {},
   "outputs": [],
   "source": [
    "# 7) from myrandom_arr, we can generate a new random trials\n",
    "\n",
    "\n",
    "z = []  \n",
    "for i in range(myrandom_arr.shape[0]):\n",
    " x = myrandom_arr[i]\n",
    " y = np.absolute(cumul_ar - x) \n",
    " index = np.argmin(y) \n",
    " z.append(index)\n",
    "\n",
    "\n"
   ]
  },
  {
   "cell_type": "code",
   "execution_count": 18,
   "metadata": {},
   "outputs": [
    {
     "data": {
      "text/plain": [
       "0.9999999999999999"
      ]
     },
     "execution_count": 18,
     "metadata": {},
     "output_type": "execute_result"
    }
   ],
   "source": [
    "# Now, we reorder the trials from dgauus with respect to the z\n",
    "\n",
    "T = np.array([dgauss[j,0] for j in z ])\n",
    "\n",
    "# Finally, we calculate the norm=1 and verify\n",
    "T_norm = np.linalg.norm(T)\n",
    "W = T/T_norm\n",
    "np.linalg.norm(W)\n"
   ]
  },
  {
   "cell_type": "code",
   "execution_count": 19,
   "metadata": {},
   "outputs": [
    {
     "data": {
      "text/plain": [
       "(array([  1.,   0.,   1.,   2.,   0.,   0.,   1.,   1.,   1.,   2.,   3.,\n",
       "          3.,   3.,   1.,   1.,   4.,   5.,   9.,   8.,   9.,   9.,   8.,\n",
       "         12.,  11.,  10.,  17.,  19.,  16.,  17.,  23.,  21.,  25.,  28.,\n",
       "         36.,  41.,  56.,  41.,  57.,  51.,  64.,  53.,  56.,  82.,  79.,\n",
       "         96.,  88.,  90.,  89.,  98., 155., 117., 132., 143., 122., 137.,\n",
       "        138., 159., 219., 166., 175., 160., 194., 182., 194., 207., 212.,\n",
       "        181., 195., 197., 202., 181., 253., 175., 186., 193., 196., 199.,\n",
       "        189., 226., 186., 179., 169., 174., 124., 143., 203., 125., 145.,\n",
       "        137., 130., 100., 116., 129.,  93.,  87.,  83.,  72.,  79.,  72.,\n",
       "         69.,  87.,  51.,  40.,  44.,  53.,  44.,  39.,  38.,  32.,  18.,\n",
       "         36.,  25.,  26.,  15.,  19.,  17.,  10.,  16.,  11.,  16.,  11.,\n",
       "         11.,   7.,  11.,   9.,  14.,   9.,   7.,   8.,   4.,   3.,   6.,\n",
       "          7.,  12.,   7.,   3.,   3.,   3.,   5.,  11.,   6.,   6.,  12.,\n",
       "          7.,   5.,   8.,  13.,  10.,   8.,   8.,   8.,  14.,   7.,  14.,\n",
       "         14.,   5.,   7.,   9.,  13.,  13.,  22.,  20.,  15.,  10.,  13.,\n",
       "         14.,  15.,  15.,  13.,  20.,  21.,  15.,  15.,  21.,  17.,  14.,\n",
       "         21.,  16.,  24.,  14.,  18.,  21.,  28.,  26.,  30.,  18.,  19.,\n",
       "         31.,  29.,  19.,  29.,  19.,  50.,  27.,  25.,  43.,  39.,  44.,\n",
       "         32.,  37.,  41.,  48.,  29.,  28.,  46.,  39.,  36.,  46.,  36.,\n",
       "         46.,  56.,  43.,  48.,  45.,  49.,  45.,  46.,  50.,  41.,  55.,\n",
       "         49.,  67.,  46.,  44.,  45.,  58.,  51.,  57.,  71.,  66.,  54.,\n",
       "         36.,  64.,  67.,  73.,  65.,  51.,  69.,  57.,  63.,  63.,  62.,\n",
       "         70.,  63.,  68.,  55.,  59.,  60.,  64.,  59.,  67.,  61.,  79.,\n",
       "         61.,  73.,  63.,  71.,  94.,  53.,  64.,  73.,  66.,  68.,  73.,\n",
       "         78.,  76.,  79.,  60.,  65.,  66.,  63.,  71.,  73.,  64.,  53.,\n",
       "         59.,  47.,  64.,  74.,  45.,  50.,  58.,  55.,  67.,  61.,  78.,\n",
       "         75.,  70.,  71.,  58.,  57.,  70.,  83.,  63.,  60.,  81.,  71.,\n",
       "         56.,  73.,  57.,  54.,  50.,  45.,  64.,  49.,  68.,  43.,  55.,\n",
       "         64.,  46.,  57.,  71.,  49.,  49.,  40.,  57.,  51.,  49.,  36.,\n",
       "         46.,  46.,  43.,  36.,  45.,  31.,  38.,  41.,  40.,  45.,  43.,\n",
       "         30.,  30.,  33.,  31.,  31.,  33.,  32.,  34.,  28.,  30.,  30.,\n",
       "         29.,  35.,  38.,  26.,  29.,  18.,  27.,  24.,  18.,  26.,  19.,\n",
       "         28.,  31.,  20.,  19.,  21.,  24.,  19.,  19.,  20.,  15.,  13.,\n",
       "         16.,  25.,  16.,  20.,  12.,   9.,  12.,  12.,   9.,  16.,   8.,\n",
       "         20.,  10.,   6.,  16.,  13.,  13.,  13.,   6.,   7.,   7.,   4.,\n",
       "          8.,   9.,   7.,   7.,   5.,   1.,   7.,   5.,   9.,   4.,   2.,\n",
       "          3.,   6.,   6.,   5.,   3.,  10.,   8.,   5.,   4.,   6.,   6.,\n",
       "          7.,   1.,   5.,   4.,   2.,   2.,   8.,   1.,   4.,   1.,   3.,\n",
       "          3.,   4.,   3.,   0.,   1.,   2.,   2.,   2.,   1.,   1.,   4.,\n",
       "          0.,   1.,   1.,   1.,   4.,   0.,   0.,   1.,   0.,   1.,   2.,\n",
       "          2.,   1.,   1.,   0.,   0.,   0.,   1.,   1.,   2.,   0.,   0.,\n",
       "          0.,   0.,   0.,   1.,   0.,   0.,   0.,   0.,   0.,   0.,   0.,\n",
       "          0.,   0.,   1.,   0.,   0.,   0.,   0.,   0.,   1.,   0.,   1.,\n",
       "          0.,   0.,   0.,   0.,   0.,   0.,   0.,   0.,   0.,   0.,   0.,\n",
       "          0.,   0.,   0.,   0.,   0.,   0.,   0.,   0.,   0.,   0.,   0.,\n",
       "          0.,   0.,   0.,   0.,   1.]),\n",
       " array([0.00180963, 0.00183707, 0.00186451, 0.00189194, 0.00191938,\n",
       "        0.00194682, 0.00197426, 0.0020017 , 0.00202913, 0.00205657,\n",
       "        0.00208401, 0.00211145, 0.00213889, 0.00216632, 0.00219376,\n",
       "        0.0022212 , 0.00224864, 0.00227608, 0.00230351, 0.00233095,\n",
       "        0.00235839, 0.00238583, 0.00241327, 0.0024407 , 0.00246814,\n",
       "        0.00249558, 0.00252302, 0.00255046, 0.00257789, 0.00260533,\n",
       "        0.00263277, 0.00266021, 0.00268765, 0.00271509, 0.00274252,\n",
       "        0.00276996, 0.0027974 , 0.00282484, 0.00285228, 0.00287971,\n",
       "        0.00290715, 0.00293459, 0.00296203, 0.00298947, 0.0030169 ,\n",
       "        0.00304434, 0.00307178, 0.00309922, 0.00312666, 0.00315409,\n",
       "        0.00318153, 0.00320897, 0.00323641, 0.00326385, 0.00329128,\n",
       "        0.00331872, 0.00334616, 0.0033736 , 0.00340104, 0.00342847,\n",
       "        0.00345591, 0.00348335, 0.00351079, 0.00353823, 0.00356566,\n",
       "        0.0035931 , 0.00362054, 0.00364798, 0.00367542, 0.00370285,\n",
       "        0.00373029, 0.00375773, 0.00378517, 0.00381261, 0.00384004,\n",
       "        0.00386748, 0.00389492, 0.00392236, 0.0039498 , 0.00397724,\n",
       "        0.00400467, 0.00403211, 0.00405955, 0.00408699, 0.00411443,\n",
       "        0.00414186, 0.0041693 , 0.00419674, 0.00422418, 0.00425162,\n",
       "        0.00427905, 0.00430649, 0.00433393, 0.00436137, 0.00438881,\n",
       "        0.00441624, 0.00444368, 0.00447112, 0.00449856, 0.004526  ,\n",
       "        0.00455343, 0.00458087, 0.00460831, 0.00463575, 0.00466319,\n",
       "        0.00469062, 0.00471806, 0.0047455 , 0.00477294, 0.00480038,\n",
       "        0.00482781, 0.00485525, 0.00488269, 0.00491013, 0.00493757,\n",
       "        0.004965  , 0.00499244, 0.00501988, 0.00504732, 0.00507476,\n",
       "        0.00510219, 0.00512963, 0.00515707, 0.00518451, 0.00521195,\n",
       "        0.00523939, 0.00526682, 0.00529426, 0.0053217 , 0.00534914,\n",
       "        0.00537658, 0.00540401, 0.00543145, 0.00545889, 0.00548633,\n",
       "        0.00551377, 0.0055412 , 0.00556864, 0.00559608, 0.00562352,\n",
       "        0.00565096, 0.00567839, 0.00570583, 0.00573327, 0.00576071,\n",
       "        0.00578815, 0.00581558, 0.00584302, 0.00587046, 0.0058979 ,\n",
       "        0.00592534, 0.00595277, 0.00598021, 0.00600765, 0.00603509,\n",
       "        0.00606253, 0.00608996, 0.0061174 , 0.00614484, 0.00617228,\n",
       "        0.00619972, 0.00622715, 0.00625459, 0.00628203, 0.00630947,\n",
       "        0.00633691, 0.00636434, 0.00639178, 0.00641922, 0.00644666,\n",
       "        0.0064741 , 0.00650154, 0.00652897, 0.00655641, 0.00658385,\n",
       "        0.00661129, 0.00663873, 0.00666616, 0.0066936 , 0.00672104,\n",
       "        0.00674848, 0.00677592, 0.00680335, 0.00683079, 0.00685823,\n",
       "        0.00688567, 0.00691311, 0.00694054, 0.00696798, 0.00699542,\n",
       "        0.00702286, 0.0070503 , 0.00707773, 0.00710517, 0.00713261,\n",
       "        0.00716005, 0.00718749, 0.00721492, 0.00724236, 0.0072698 ,\n",
       "        0.00729724, 0.00732468, 0.00735211, 0.00737955, 0.00740699,\n",
       "        0.00743443, 0.00746187, 0.0074893 , 0.00751674, 0.00754418,\n",
       "        0.00757162, 0.00759906, 0.00762649, 0.00765393, 0.00768137,\n",
       "        0.00770881, 0.00773625, 0.00776369, 0.00779112, 0.00781856,\n",
       "        0.007846  , 0.00787344, 0.00790088, 0.00792831, 0.00795575,\n",
       "        0.00798319, 0.00801063, 0.00803807, 0.0080655 , 0.00809294,\n",
       "        0.00812038, 0.00814782, 0.00817526, 0.00820269, 0.00823013,\n",
       "        0.00825757, 0.00828501, 0.00831245, 0.00833988, 0.00836732,\n",
       "        0.00839476, 0.0084222 , 0.00844964, 0.00847707, 0.00850451,\n",
       "        0.00853195, 0.00855939, 0.00858683, 0.00861426, 0.0086417 ,\n",
       "        0.00866914, 0.00869658, 0.00872402, 0.00875145, 0.00877889,\n",
       "        0.00880633, 0.00883377, 0.00886121, 0.00888864, 0.00891608,\n",
       "        0.00894352, 0.00897096, 0.0089984 , 0.00902584, 0.00905327,\n",
       "        0.00908071, 0.00910815, 0.00913559, 0.00916303, 0.00919046,\n",
       "        0.0092179 , 0.00924534, 0.00927278, 0.00930022, 0.00932765,\n",
       "        0.00935509, 0.00938253, 0.00940997, 0.00943741, 0.00946484,\n",
       "        0.00949228, 0.00951972, 0.00954716, 0.0095746 , 0.00960203,\n",
       "        0.00962947, 0.00965691, 0.00968435, 0.00971179, 0.00973922,\n",
       "        0.00976666, 0.0097941 , 0.00982154, 0.00984898, 0.00987641,\n",
       "        0.00990385, 0.00993129, 0.00995873, 0.00998617, 0.0100136 ,\n",
       "        0.01004104, 0.01006848, 0.01009592, 0.01012336, 0.0101508 ,\n",
       "        0.01017823, 0.01020567, 0.01023311, 0.01026055, 0.01028799,\n",
       "        0.01031542, 0.01034286, 0.0103703 , 0.01039774, 0.01042518,\n",
       "        0.01045261, 0.01048005, 0.01050749, 0.01053493, 0.01056237,\n",
       "        0.0105898 , 0.01061724, 0.01064468, 0.01067212, 0.01069956,\n",
       "        0.01072699, 0.01075443, 0.01078187, 0.01080931, 0.01083675,\n",
       "        0.01086418, 0.01089162, 0.01091906, 0.0109465 , 0.01097394,\n",
       "        0.01100137, 0.01102881, 0.01105625, 0.01108369, 0.01111113,\n",
       "        0.01113856, 0.011166  , 0.01119344, 0.01122088, 0.01124832,\n",
       "        0.01127575, 0.01130319, 0.01133063, 0.01135807, 0.01138551,\n",
       "        0.01141295, 0.01144038, 0.01146782, 0.01149526, 0.0115227 ,\n",
       "        0.01155014, 0.01157757, 0.01160501, 0.01163245, 0.01165989,\n",
       "        0.01168733, 0.01171476, 0.0117422 , 0.01176964, 0.01179708,\n",
       "        0.01182452, 0.01185195, 0.01187939, 0.01190683, 0.01193427,\n",
       "        0.01196171, 0.01198914, 0.01201658, 0.01204402, 0.01207146,\n",
       "        0.0120989 , 0.01212633, 0.01215377, 0.01218121, 0.01220865,\n",
       "        0.01223609, 0.01226352, 0.01229096, 0.0123184 , 0.01234584,\n",
       "        0.01237328, 0.01240071, 0.01242815, 0.01245559, 0.01248303,\n",
       "        0.01251047, 0.0125379 , 0.01256534, 0.01259278, 0.01262022,\n",
       "        0.01264766, 0.0126751 , 0.01270253, 0.01272997, 0.01275741,\n",
       "        0.01278485, 0.01281229, 0.01283972, 0.01286716, 0.0128946 ,\n",
       "        0.01292204, 0.01294948, 0.01297691, 0.01300435, 0.01303179,\n",
       "        0.01305923, 0.01308667, 0.0131141 , 0.01314154, 0.01316898,\n",
       "        0.01319642, 0.01322386, 0.01325129, 0.01327873, 0.01330617,\n",
       "        0.01333361, 0.01336105, 0.01338848, 0.01341592, 0.01344336,\n",
       "        0.0134708 , 0.01349824, 0.01352567, 0.01355311, 0.01358055,\n",
       "        0.01360799, 0.01363543, 0.01366286, 0.0136903 , 0.01371774,\n",
       "        0.01374518, 0.01377262, 0.01380005, 0.01382749, 0.01385493,\n",
       "        0.01388237, 0.01390981, 0.01393725, 0.01396468, 0.01399212,\n",
       "        0.01401956, 0.014047  , 0.01407444, 0.01410187, 0.01412931,\n",
       "        0.01415675, 0.01418419, 0.01421163, 0.01423906, 0.0142665 ,\n",
       "        0.01429394, 0.01432138, 0.01434882, 0.01437625, 0.01440369,\n",
       "        0.01443113, 0.01445857, 0.01448601, 0.01451344, 0.01454088,\n",
       "        0.01456832, 0.01459576, 0.0146232 , 0.01465063, 0.01467807,\n",
       "        0.01470551, 0.01473295, 0.01476039, 0.01478782, 0.01481526,\n",
       "        0.0148427 , 0.01487014, 0.01489758, 0.01492501, 0.01495245,\n",
       "        0.01497989, 0.01500733, 0.01503477, 0.0150622 , 0.01508964,\n",
       "        0.01511708, 0.01514452, 0.01517196, 0.0151994 , 0.01522683,\n",
       "        0.01525427, 0.01528171, 0.01530915, 0.01533659, 0.01536402,\n",
       "        0.01539146, 0.0154189 , 0.01544634, 0.01547378, 0.01550121,\n",
       "        0.01552865]),\n",
       " <BarContainer object of 500 artists>)"
      ]
     },
     "execution_count": 19,
     "metadata": {},
     "output_type": "execute_result"
    },
    {
     "data": {
      "image/png": "[encoded data removed]",
      "text/plain": [
       "<Figure size 640x480 with 1 Axes>"
      ]
     },
     "metadata": {},
     "output_type": "display_data"
    }
   ],
   "source": [
    "# The plots of the new distribution with 500 bins is \n",
    "mpl.hist(W,bins=500,color='red')\n",
    "\n"
   ]
  }
 ],
 "metadata": {
  "kernelspec": {
   "display_name": "Python 3 (ipykernel)",
   "language": "python",
   "name": "python3"
  },
  "language_info": {
   "codemirror_mode": {
    "name": "ipython",
    "version": 3
   },
   "file_extension": ".py",
   "mimetype": "text/x-python",
   "name": "python",
   "nbconvert_exporter": "python",
   "pygments_lexer": "ipython3",
   "version": "3.10.12"
  }
 },
 "nbformat": 4,
 "nbformat_minor": 2
}
