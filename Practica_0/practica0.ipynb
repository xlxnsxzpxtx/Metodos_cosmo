{
 "cells": [
  {
   "cell_type": "markdown",
   "metadata": {},
   "source": [
    "## Práctica o \n",
    "### Miguel Alfonso Zapata De La Cruz"
   ]
  },
  {
   "cell_type": "markdown",
   "metadata": {},
   "source": [
    "<img src= 'Practica_0.jpg' width=\"600px\">"
   ]
  },
  {
   "cell_type": "code",
   "execution_count": 1,
   "metadata": {},
   "outputs": [],
   "source": [
    "import numpy as np\n",
    "import matplotlib.pyplot as mpl\n",
    "#Practica"
   ]
  },
  {
   "cell_type": "markdown",
   "metadata": {},
   "source": [
    "### Generamos 100 veces los primeros 10 elementos de forma aleatoria "
   ]
  },
  {
   "cell_type": "code",
   "execution_count": 3,
   "metadata": {},
   "outputs": [],
   "source": [
    "mu = 0\n",
    "sigma = 1.0 \n",
    "dis_1 = []\n",
    "dis_2 = []\n",
    "dis_3 = []\n",
    "for k in range(100): \n",
    "  dis_1.append(np.random.normal(mu,sigma,10))\n"
   ]
  },
  {
   "cell_type": "markdown",
   "metadata": {},
   "source": [
    "## De forma análoga para 100 elementos "
   ]
  },
  {
   "cell_type": "code",
   "execution_count": 5,
   "metadata": {},
   "outputs": [],
   "source": [
    "for k in range(100): \n",
    "  dis_2.append(np.random.normal(mu,sigma,100))\n"
   ]
  },
  {
   "cell_type": "markdown",
   "metadata": {},
   "source": [
    "## Y finalmente para 1000 elementos "
   ]
  },
  {
   "cell_type": "code",
   "execution_count": 6,
   "metadata": {},
   "outputs": [],
   "source": [
    "for k in range(100):\n",
    "    dis_3.append(np.random.normal(mu,sigma,1000))"
   ]
  },
  {
   "cell_type": "markdown",
   "metadata": {},
   "source": [
    "## Ahora calculamos los promedios para 10, 100 y 1000 elementos "
   ]
  },
  {
   "cell_type": "code",
   "execution_count": 7,
   "metadata": {},
   "outputs": [],
   "source": [
    "prom1 = []\n",
    "prom2 = []\n",
    "prom3 = []\n",
    "\n",
    "for i in dis_1:\n",
    "    prom1.append(np.mean(i))\n",
    "\n",
    "for j in dis_2: \n",
    "    prom2.append(np.mean(j))\n",
    "\n",
    "for k in dis_3: \n",
    "    prom3.append(np.mean(k))\n",
    "\n",
    "s1 = np.std(prom1)\n",
    "s2 = np.std(prom2)\n",
    "s3 = np.std(prom3)"
   ]
  },
  {
   "cell_type": "markdown",
   "metadata": {},
   "source": [
    "## Recordando la formula para la desviación estándar $$ \\sigma \\thickapprox  \\frac{1}{\\sqrt{N}} $$\n",
    "## Calculamos "
   ]
  },
  {
   "cell_type": "code",
   "execution_count": 8,
   "metadata": {},
   "outputs": [],
   "source": [
    "s11 = (10)**(-0.5)\n",
    "s22 = (100)**(-0.5)\n",
    "s33 = (1000)**(-0.5)"
   ]
  },
  {
   "cell_type": "code",
   "execution_count": 9,
   "metadata": {},
   "outputs": [
    {
     "name": "stdout",
     "output_type": "stream",
     "text": [
      "0.3332430467740607 0.31622776601683794\n",
      "0.1015035573337781 0.1\n",
      "0.031940023432928774 0.03162277660168379\n"
     ]
    }
   ],
   "source": [
    "# Para 10 elementos tenemos \n",
    "print(s1,s11)\n",
    "print(s2,s22)\n",
    "print(s3,s33)\n",
    "\n",
    "#Vemos que se cumple la aproximación"
   ]
  },
  {
   "cell_type": "markdown",
   "metadata": {},
   "source": [
    "## Lo cual verifica que aproximadamente $ \\sigma \\thickapprox  \\frac{1}{\\sqrt{N}} $"
   ]
  }
 ],
 "metadata": {
  "kernelspec": {
   "display_name": "Python 3 (ipykernel)",
   "language": "python",
   "name": "python3"
  },
  "language_info": {
   "codemirror_mode": {
    "name": "ipython",
    "version": 3
   },
   "file_extension": ".py",
   "mimetype": "text/x-python",
   "name": "python",
   "nbconvert_exporter": "python",
   "pygments_lexer": "ipython3",
   "version": "3.10.12"
  }
 },
 "nbformat": 4,
 "nbformat_minor": 2
}
