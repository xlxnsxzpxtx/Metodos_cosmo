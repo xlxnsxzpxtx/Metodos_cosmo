{
 "cells": [
  {
   "cell_type": "markdown",
   "metadata": {},
   "source": [
    "## Práctica o \n",
    "### Miguel Alfonso Zapata De La Cruz"
   ]
  },
  {
   "cell_type": "markdown",
   "metadata": {},
   "source": [
    "<img src= 'Practica_0.jpg' width=\"600px\">"
   ]
  },
  {
   "cell_type": "code",
   "execution_count": 2,
   "metadata": {},
   "outputs": [],
   "source": [
    "import numpy as np\n",
    "import matplotlib.pyplot as mpl\n",
    "from scipy.stats import norm \n",
    "#Practica"
   ]
  },
  {
   "cell_type": "markdown",
   "metadata": {},
   "source": [
    "### Generamos 100 veces los primeros 10 elementos de forma aleatoria "
   ]
  },
  {
   "cell_type": "code",
   "execution_count": 3,
   "metadata": {},
   "outputs": [],
   "source": [
    "mu = 0\n",
    "sigma = 1.0 \n",
    "dis_1 = []\n",
    "dis_2 = []\n",
    "dis_3 = []\n",
    "for k in range(100): \n",
    "  dis_1.append(np.random.normal(mu,sigma,10))\n"
   ]
  },
  {
   "cell_type": "markdown",
   "metadata": {},
   "source": [
    "## De forma análoga para 100 elementos "
   ]
  },
  {
   "cell_type": "code",
   "execution_count": 3,
   "metadata": {},
   "outputs": [],
   "source": [
    "for k in range(100): \n",
    "  dis_2.append(np.random.normal(mu,sigma,100))\n"
   ]
  },
  {
   "cell_type": "markdown",
   "metadata": {},
   "source": [
    "## Y finalmente para 1000 elementos "
   ]
  },
  {
   "cell_type": "code",
   "execution_count": 4,
   "metadata": {},
   "outputs": [],
   "source": [
    "for k in range(100):\n",
    "    dis_3.append(np.random.normal(mu,sigma,1000))"
   ]
  },
  {
   "cell_type": "markdown",
   "metadata": {},
   "source": [
    "## Ahora calculamos los promedios para 10, 100 y 1000 elementos "
   ]
  },
  {
   "cell_type": "code",
   "execution_count": 5,
   "metadata": {},
   "outputs": [],
   "source": [
    "prom1 = []\n",
    "prom2 = []\n",
    "prom3 = []\n",
    "\n",
    "for i in dis_1:\n",
    "    prom1.append(np.mean(i))\n",
    "\n",
    "for j in dis_2: \n",
    "    prom2.append(np.mean(j))\n",
    "\n",
    "for k in dis_3: \n",
    "    prom3.append(np.mean(k))\n",
    "\n",
    "s1 = np.std(prom1)\n",
    "s2 = np.std(prom2)\n",
    "s3 = np.std(prom3)"
   ]
  },
  {
   "cell_type": "markdown",
   "metadata": {},
   "source": [
    "## Recordando la formula para la desviación estándar $$ \\sigma \\thickapprox  \\frac{1}{\\sqrt{N}} $$\n",
    "## Calculamos "
   ]
  },
  {
   "cell_type": "code",
   "execution_count": 6,
   "metadata": {},
   "outputs": [],
   "source": [
    "s11 = (10)**(-0.5)\n",
    "s22 = (100)**(-0.5)\n",
    "s33 = (1000)**(-0.5)"
   ]
  },
  {
   "cell_type": "code",
   "execution_count": 7,
   "metadata": {},
   "outputs": [
    {
     "name": "stdout",
     "output_type": "stream",
     "text": [
      "0.2905292709438213 0.31622776601683794\n",
      "0.10401130243805054 0.1\n",
      "0.029223782410183096 0.03162277660168379\n"
     ]
    }
   ],
   "source": [
    "# Para 10 elementos tenemos \n",
    "print(s1,s11)\n",
    "print(s2,s22)\n",
    "print(s3,s33)\n",
    "\n",
    "#Vemos que se cumple la aproximación"
   ]
  },
  {
   "cell_type": "markdown",
   "metadata": {},
   "source": [
    "## Lo cual verifica que aproximadamente $ \\sigma \\thickapprox  \\frac{1}{\\sqrt{N}} $"
   ]
  },
  {
   "cell_type": "markdown",
   "metadata": {},
   "source": [
    "## Segunda parte "
   ]
  },
  {
   "cell_type": "code",
   "execution_count": 5,
   "metadata": {},
   "outputs": [
    {
     "name": "stdout",
     "output_type": "stream",
     "text": [
      "[[0.00000000e+00 7.08271527e-09]\n",
      " [1.00000000e-02 7.21797517e-09]\n",
      " [2.00000000e-02 7.35574896e-09]\n",
      " ...\n",
      " [2.99800000e+01 5.72470107e-06]\n",
      " [2.99900000e+01 5.64269933e-06]\n",
      " [3.00000000e+01 5.56181040e-06]]\n"
     ]
    }
   ],
   "source": [
    "# 1) Leemos e imprimimos el archivo \n",
    "dgauss = np.loadtxt('PDF_double_gauss_2021.txt')\n",
    "print(dgauss)"
   ]
  },
  {
   "cell_type": "markdown",
   "metadata": {},
   "source": [
    "## Usando el formula de los intervalos, en la regla de Simpson compuestas en la forma $ h = \\frac{b-a}{n}$, donde $a$ y $b$ son los extremos del intervalo y $n$, el número de subintervalos"
   ]
  },
  {
   "cell_type": "code",
   "execution_count": 6,
   "metadata": {},
   "outputs": [
    {
     "name": "stdout",
     "output_type": "stream",
     "text": [
      "El tamaño de dx es 0.01\n"
     ]
    }
   ],
   "source": [
    "# 2) Calculando el elemento dx \n",
    "i = 0\n",
    "x = [fila[i] for fila in dgauss]\n",
    "d = len(x)\n",
    "j = 1 \n",
    "y = [fila[j] for fila in dgauss]\n",
    "\n",
    "dx = (x[-1]-x[0])/(d-1)\n",
    "print('El tamaño de dx es',dx)\n"
   ]
  },
  {
   "cell_type": "code",
   "execution_count": 7,
   "metadata": {},
   "outputs": [
    {
     "name": "stdout",
     "output_type": "stream",
     "text": [
      "El resultado de la multiplación es  0.9999963524247931\n"
     ]
    }
   ],
   "source": [
    "# 3) Verificamos \n",
    "j = 1\n",
    "pdf_arr = [fila[j] for fila in dgauss]\n",
    "sum = np.sum(pdf_arr)\n",
    "print('El resultado de la multiplación es ',sum*dx)\n",
    "\n",
    "#Podemos ver que el resultado es muy cerca de la unidad. "
   ]
  },
  {
   "cell_type": "code",
   "execution_count": 8,
   "metadata": {},
   "outputs": [
    {
     "data": {
      "text/plain": [
       "array([7.08271527e-09, 1.43006904e-08, 2.16564394e-08, ...,\n",
       "       9.99996240e+01, 9.99996297e+01, 9.99996352e+01])"
      ]
     },
     "execution_count": 8,
     "metadata": {},
     "output_type": "execute_result"
    }
   ],
   "source": [
    "# 4) Ahora encontramos cumulative distribution function (CDF), para esto recordemos que \n",
    "# se obtiene al sumar la función de densidad de probabilidad. Así \n",
    "x_array   = dgauss[:,0]\n",
    "pdf_array = dgauss[:,1] \n",
    "\n",
    "comul_array =np.cumsum(pdf_array)\n",
    "comul_array\n",
    "\n"
   ]
  },
  {
   "cell_type": "code",
   "execution_count": 9,
   "metadata": {},
   "outputs": [
    {
     "data": {
      "text/plain": [
       "Text(0, 0.5, 'Probabilty Distribution Function (PDF)')"
      ]
     },
     "execution_count": 9,
     "metadata": {},
     "output_type": "execute_result"
    },
    {
     "data": {
      "image/png": "[encoded data removed]",
      "text/plain": [
       "<Figure size 640x480 with 1 Axes>"
      ]
     },
     "metadata": {},
     "output_type": "display_data"
    }
   ],
   "source": [
    "# 5) Realizamos los plots de PDF y CDF \n",
    "\n",
    "pdf_plot = mpl.plot(x_array,pdf_array, color = 'green' )\n",
    "mpl.xlabel('x')\n",
    "mpl.ylabel('Probabilty Distribution Function (PDF)')\n"
   ]
  },
  {
   "cell_type": "code",
   "execution_count": 10,
   "metadata": {},
   "outputs": [
    {
     "data": {
      "text/plain": [
       "Text(0, 0.5, 'cumulative distribution function (CDF)')"
      ]
     },
     "execution_count": 10,
     "metadata": {},
     "output_type": "execute_result"
    },
    {
     "data": {
      "image/png": "[encoded data removed]",
      "text/plain": [
       "<Figure size 640x480 with 1 Axes>"
      ]
     },
     "metadata": {},
     "output_type": "display_data"
    }
   ],
   "source": [
    "cdf_plot = mpl.plot(x_array,comul_array, color = 'red' )\n",
    "mpl.xlabel('x')\n",
    "mpl.ylabel('cumulative distribution function (CDF)')"
   ]
  },
  {
   "cell_type": "code",
   "execution_count": 21,
   "metadata": {},
   "outputs": [
    {
     "data": {
      "text/plain": [
       "array([[0.55877557, 0.07320744, 0.87422686, ..., 0.17302827, 0.13538371,\n",
       "        0.30068653],\n",
       "       [0.97784701, 0.62078344, 0.47846471, ..., 0.31309221, 0.21331919,\n",
       "        0.83497792],\n",
       "       [0.89258737, 0.93470385, 0.09043407, ..., 0.51186848, 0.8921672 ,\n",
       "        0.52389165],\n",
       "       ...,\n",
       "       [0.79984138, 0.12386314, 0.77759569, ..., 0.01824046, 0.29370585,\n",
       "        0.66928691],\n",
       "       [0.87433781, 0.40462956, 0.8432138 , ..., 0.08994684, 0.30343069,\n",
       "        0.80631813],\n",
       "       [0.81439039, 0.57006492, 0.71645101, ..., 0.07115569, 0.0709198 ,\n",
       "        0.94720878]])"
      ]
     },
     "execution_count": 21,
     "metadata": {},
     "output_type": "execute_result"
    }
   ],
   "source": [
    "# 6) \n",
    "t = len(comul_array)\n",
    "\n",
    "\n",
    "myrand_arr = []\n",
    "for k in range(t):\n",
    " myrand_arr.append(np.random.rand(20000))\n",
    " \n",
    "myrand_arr = np.array(myrand_arr)\n",
    "myrand_arr\n"
   ]
  },
  {
   "cell_type": "code",
   "execution_count": 22,
   "metadata": {},
   "outputs": [
    {
     "data": {
      "text/plain": [
       "(array([[558., 622., 602., 610., 609.],\n",
       "        [635., 581., 613., 547., 625.],\n",
       "        [606., 602., 576., 581., 636.],\n",
       "        ...,\n",
       "        [577., 629., 600., 600., 595.],\n",
       "        [606., 589., 611., 599., 596.],\n",
       "        [562., 625., 626., 592., 596.]]),\n",
       " array([2.39289988e-09, 2.00000000e-01, 3.99999997e-01, 5.99999995e-01,\n",
       "        7.99999992e-01, 9.99999990e-01]),\n",
       " <a list of 20000 BarContainer objects>)"
      ]
     },
     "execution_count": 22,
     "metadata": {},
     "output_type": "execute_result"
    },
    {
     "data": {
      "image/png": "[encoded data removed]",
      "text/plain": [
       "<Figure size 640x480 with 1 Axes>"
      ]
     },
     "metadata": {},
     "output_type": "display_data"
    }
   ],
   "source": [
    "mpl.hist(myrand_arr,bins=5)"
   ]
  }
 ],
 "metadata": {
  "kernelspec": {
   "display_name": "Python 3 (ipykernel)",
   "language": "python",
   "name": "python3"
  },
  "language_info": {
   "codemirror_mode": {
    "name": "ipython",
    "version": 3
   },
   "file_extension": ".py",
   "mimetype": "text/x-python",
   "name": "python",
   "nbconvert_exporter": "python",
   "pygments_lexer": "ipython3",
   "version": "3.10.12"
  }
 },
 "nbformat": 4,
 "nbformat_minor": 2
}
