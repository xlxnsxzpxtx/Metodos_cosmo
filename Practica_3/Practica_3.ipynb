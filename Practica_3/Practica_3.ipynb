{
 "cells": [
  {
   "cell_type": "code",
   "execution_count": 2,
   "metadata": {},
   "outputs": [],
   "source": [
    "import numpy as np\n",
    "import matplotlib.pyplot as plt\n",
    "import numpy.fft as T\n",
    "import itertools"
   ]
  },
  {
   "cell_type": "code",
   "execution_count": 15,
   "metadata": {},
   "outputs": [
    {
     "name": "stdout",
     "output_type": "stream",
     "text": [
      "el valor mínimo en x es 0.033786\n",
      "el valor máximo en x es 999.966125\n",
      "el valor mínimo en x es 0.040336\n",
      "el valor máximo en x es 999.954712\n",
      "el valor mínimo en x es 0.054647\n",
      "el valor máximo en x es 999.976807\n"
     ]
    }
   ],
   "source": [
    "dat=np.loadtxt('Halo_list_NO_FOFR_1000.txt')\n",
    "\n",
    "min_x = np.min(dat[:,0]) \n",
    "max_x = np.max(dat[:,0])\n",
    "min_y = np.min(dat[:,1]) \n",
    "max_y = np.max(dat[:,1])\n",
    "min_z = np.min(dat[:,2])\n",
    "max_z = np.max(dat[:,2])\n",
    "\n",
    "print(\"el valor mínimo en x es\", min_x)\n",
    "print(\"el valor máximo en x es\", max_x)\n",
    "\n",
    "print(\"el valor mínimo en x es\", min_y)\n",
    "print(\"el valor máximo en x es\", max_y)   \n",
    "\n",
    "\n",
    "print(\"el valor mínimo en x es\", min_z)\n",
    "print(\"el valor máximo en x es\", max_z)"
   ]
  },
  {
   "cell_type": "code",
   "execution_count": 12,
   "metadata": {},
   "outputs": [
    {
     "data": {
      "text/plain": [
       "(616457, 4)"
      ]
     },
     "execution_count": 12,
     "metadata": {},
     "output_type": "execute_result"
    }
   ],
   "source": [
    "dat.shape"
   ]
  },
  {
   "cell_type": "code",
   "execution_count": 30,
   "metadata": {},
   "outputs": [
    {
     "data": {
      "text/plain": [
       "<matplotlib.image.AxesImage at 0x7f57eb43dc90>"
      ]
     },
     "execution_count": 30,
     "metadata": {},
     "output_type": "execute_result"
    },
    {
     "data": {
      "image/png": "[encoded data removed]",
      "text/plain": [
       "<Figure size 640x480 with 1 Axes>"
      ]
     },
     "metadata": {},
     "output_type": "display_data"
    }
   ],
   "source": [
    "dat_n = dat/10\n",
    "num_dat = dat.shape[0]\n",
    "\n",
    "x=np.zeros((110,110,110))\n",
    "for t in range(num_dat):\n",
    "    i,j,k=np.round(dat_n[t,:3])\n",
    "    x[int(i),int(j),int(k)]+=1\n",
    "\n",
    "plt.imshow(x[:,0,:])"
   ]
  },
  {
   "cell_type": "code",
   "execution_count": 20,
   "metadata": {},
   "outputs": [
    {
     "data": {
      "text/plain": [
       "616457"
      ]
     },
     "execution_count": 20,
     "metadata": {},
     "output_type": "execute_result"
    }
   ],
   "source": [
    "dat.shape[0]"
   ]
  }
 ],
 "metadata": {
  "kernelspec": {
   "display_name": "cosmodesi",
   "language": "python",
   "name": "cosmodesi"
  },
  "language_info": {
   "codemirror_mode": {
    "name": "ipython",
    "version": 3
   },
   "file_extension": ".py",
   "mimetype": "text/x-python",
   "name": "python",
   "nbconvert_exporter": "python",
   "pygments_lexer": "ipython3",
   "version": "3.10.12"
  },
  "orig_nbformat": 4
 },
 "nbformat": 4,
 "nbformat_minor": 2
}
